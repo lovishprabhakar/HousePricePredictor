{
 "cells": [
  {
   "cell_type": "code",
   "execution_count": 1,
   "metadata": {},
   "outputs": [],
   "source": [
    "import pandas as pd"
   ]
  },
  {
   "cell_type": "code",
   "execution_count": 2,
   "metadata": {},
   "outputs": [
    {
     "name": "stdout",
     "output_type": "stream",
     "text": [
      "<class 'pandas.core.frame.DataFrame'>\n",
      "RangeIndex: 506 entries, 0 to 505\n",
      "Data columns (total 14 columns):\n",
      " #   Column   Non-Null Count  Dtype  \n",
      "---  ------   --------------  -----  \n",
      " 0   crim     506 non-null    float64\n",
      " 1   zn       506 non-null    float64\n",
      " 2   indus    506 non-null    float64\n",
      " 3   chas     506 non-null    int64  \n",
      " 4   nox      506 non-null    float64\n",
      " 5   rm       506 non-null    float64\n",
      " 6   age      506 non-null    float64\n",
      " 7   dis      506 non-null    float64\n",
      " 8   rad      506 non-null    int64  \n",
      " 9   tax      506 non-null    int64  \n",
      " 10  ptratio  506 non-null    float64\n",
      " 11  b        506 non-null    float64\n",
      " 12  lstat    506 non-null    float64\n",
      " 13  medv     506 non-null    float64\n",
      "dtypes: float64(11), int64(3)\n",
      "memory usage: 55.5 KB\n"
     ]
    }
   ],
   "source": [
    "data=pd.read_csv(\"data.csv\")\n",
    "data.info()"
   ]
  },
  {
   "cell_type": "code",
   "execution_count": 3,
   "metadata": {},
   "outputs": [],
   "source": [
    "dataSet=data.drop(\"medv\",axis=1)\n",
    "dataLabels=data[\"medv\"].copy()"
   ]
  },
  {
   "cell_type": "code",
   "execution_count": 4,
   "metadata": {},
   "outputs": [
    {
     "name": "stdout",
     "output_type": "stream",
     "text": [
      "Rows in trainSet: 404\n",
      "Rows in testSet: 102\n",
      "\n",
      "Rows in trainLabels: 404\n",
      "Rows in testLabels: 102\n",
      "\n"
     ]
    }
   ],
   "source": [
    "from sklearn.model_selection import train_test_split\n",
    "trainSet,testSet=train_test_split(dataSet,test_size=0.2,random_state=42)\n",
    "trainLabels,testLabels=train_test_split(dataLabels,test_size=0.2,random_state=42)\n",
    "print(f\"Rows in trainSet: {len(trainSet)}\\nRows in testSet: {len(testSet)}\\n\")\n",
    "print(f\"Rows in trainLabels: {len(trainLabels)}\\nRows in testLabels: {len(testLabels)}\\n\")"
   ]
  },
  {
   "cell_type": "code",
   "execution_count": 5,
   "metadata": {},
   "outputs": [],
   "source": [
    "from sklearn.preprocessing import StandardScaler\n",
    "from sklearn.impute import SimpleImputer\n",
    "from sklearn.pipeline import Pipeline\n",
    "\n",
    "myPipeline=Pipeline([('imputer',SimpleImputer(strategy=\"median\")),('stdScaler',StandardScaler()),])\n",
    "finalTrainSet=myPipeline.fit_transform(trainSet)\n",
    "finalTestSet=myPipeline.fit_transform(testSet)\n"
   ]
  },
  {
   "cell_type": "code",
   "execution_count": 6,
   "metadata": {},
   "outputs": [
    {
     "data": {
      "text/plain": [
       "1.8853799430693068"
      ]
     },
     "execution_count": 6,
     "metadata": {},
     "output_type": "execute_result"
    }
   ],
   "source": [
    "import numpy as np\n",
    "from sklearn.metrics import mean_squared_error\n",
    "from sklearn.ensemble import RandomForestRegressor\n",
    "# from sklearn.linear_model import LinearRegression\n",
    "# from sklearn.tree import DecisionTreeRegressor\n",
    "\n",
    "# model=LinearRegression()\n",
    "# model=DecisionTreeRegressor()\n",
    "\n",
    "model=RandomForestRegressor()\n",
    "model.fit(finalTrainSet,trainLabels)\n",
    "pred=model.predict(finalTrainSet)\n",
    "mse=mean_squared_error(trainLabels,pred)\n",
    "rmse=np.sqrt(mse)\n",
    "mse     #overfitted in case of DecisionTree"
   ]
  },
  {
   "cell_type": "code",
   "execution_count": 7,
   "metadata": {},
   "outputs": [],
   "source": [
    "# To overcome overfitting and to evaluate models and choose the best one\n",
    "from sklearn.model_selection import cross_val_score\n",
    "scores=cross_val_score(model,finalTrainSet,trainLabels,scoring=\"neg_mean_squared_error\",cv=10)\n",
    "rmseScores=np.sqrt(-scores)  #scores will be in negative so to take sqrt add another minus\n",
    "# rmseScores"
   ]
  },
  {
   "cell_type": "code",
   "execution_count": 8,
   "metadata": {},
   "outputs": [
    {
     "name": "stdout",
     "output_type": "stream",
     "text": [
      "Scores: [2.99480604 3.48615593 2.53353579 5.4339488  4.82031172 2.88320047\n",
      " 3.60917388 2.48742799 2.50060362 4.49472571]\n",
      "Mean: 3.5243889951936453\n",
      "Standard Deviation: 1.0036350665647402\n"
     ]
    }
   ],
   "source": [
    "def printScores(scores):\n",
    "    print(\"Scores:\", scores)\n",
    "    print(\"Mean:\",scores.mean())\n",
    "    print(\"Standard Deviation:\",scores.std())\n",
    "\n",
    "printScores(rmseScores)"
   ]
  },
  {
   "cell_type": "code",
   "execution_count": 9,
   "metadata": {},
   "outputs": [
    {
     "data": {
      "text/plain": [
       "['HousePricePredictor.joblib']"
      ]
     },
     "execution_count": 9,
     "metadata": {},
     "output_type": "execute_result"
    }
   ],
   "source": [
    "# Creating the final model to be used\n",
    "from joblib import dump\n",
    "dump(model,'HousePricePredictor.joblib')"
   ]
  },
  {
   "cell_type": "markdown",
   "metadata": {},
   "source": [
    "### Testing against Test Data\n"
   ]
  },
  {
   "cell_type": "code",
   "execution_count": 10,
   "metadata": {},
   "outputs": [
    {
     "data": {
      "text/plain": [
       "3.1987189868543853"
      ]
     },
     "execution_count": 10,
     "metadata": {},
     "output_type": "execute_result"
    }
   ],
   "source": [
    "finalPred=model.predict(finalTestSet)\n",
    "finalMSE=mean_squared_error(testLabels,finalPred)\n",
    "finalRMSE=np.sqrt(finalMSE)\n",
    "# print(finalPred,list(testLabels))\n",
    "finalRMSE"
   ]
  },
  {
   "cell_type": "code",
   "execution_count": null,
   "metadata": {},
   "outputs": [],
   "source": []
  }
 ],
 "metadata": {
  "kernelspec": {
   "display_name": "Python 3",
   "language": "python",
   "name": "python3"
  },
  "language_info": {
   "codemirror_mode": {
    "name": "ipython",
    "version": 3
   },
   "file_extension": ".py",
   "mimetype": "text/x-python",
   "name": "python",
   "nbconvert_exporter": "python",
   "pygments_lexer": "ipython3",
   "version": "3.11.4"
  },
  "orig_nbformat": 4
 },
 "nbformat": 4,
 "nbformat_minor": 2
}
